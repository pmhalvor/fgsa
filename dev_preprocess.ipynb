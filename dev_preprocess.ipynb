{
 "cells": [
  {
   "cell_type": "code",
   "execution_count": 1,
   "metadata": {},
   "outputs": [],
   "source": [
    "from nltk import word_tokenize\n",
    "from norec_fine import get_bio_target, get_bio_expression"
   ]
  },
  {
   "cell_type": "code",
   "execution_count": 2,
   "metadata": {},
   "outputs": [],
   "source": [
    "opinion = {'Source': [[], []], 'Target': [['EP-ens'], ['4:10']], 'Polar_expression': [['“ in your face”-låtene'], ['73:95']], 'Polarity': 'Positive', 'Intensity': 'Standard'}\n",
    "text = 'Som EP-ens eneste ballade , forsvinner \\u00ab Dynamite \\u00bb glatt blant de andre \\u201c in your face\\u201d-l\\u00e5tene .'"
   ]
  },
  {
   "cell_type": "code",
   "execution_count": 3,
   "metadata": {},
   "outputs": [
    {
     "data": {
      "text/plain": [
       "[(73,\n",
       "  ['B-exp-Positive',\n",
       "   'I-exp-Positive',\n",
       "   'I-exp-Positive',\n",
       "   'I-exp-Positive',\n",
       "   'I-exp-Positive',\n",
       "   'I-exp-Positive'])]"
      ]
     },
     "execution_count": 3,
     "metadata": {},
     "output_type": "execute_result"
    }
   ],
   "source": [
    "get_bio_expression(opinion)"
   ]
  },
  {
   "cell_type": "code",
   "execution_count": 4,
   "metadata": {},
   "outputs": [],
   "source": [
    "expression, idxs = opinion['Polar_expression']"
   ]
  },
  {
   "cell_type": "code",
   "execution_count": 5,
   "metadata": {},
   "outputs": [
    {
     "data": {
      "text/plain": [
       "['“ in your face”-låtene']"
      ]
     },
     "execution_count": 5,
     "metadata": {},
     "output_type": "execute_result"
    }
   ],
   "source": [
    "expression"
   ]
  },
  {
   "cell_type": "code",
   "execution_count": 6,
   "metadata": {},
   "outputs": [
    {
     "data": {
      "text/plain": [
       "['“', 'in', 'your', 'face', '”', '-låtene']"
      ]
     },
     "execution_count": 6,
     "metadata": {},
     "output_type": "execute_result"
    }
   ],
   "source": [
    "word_tokenize(expression[0])"
   ]
  },
  {
   "cell_type": "code",
   "execution_count": 7,
   "metadata": {},
   "outputs": [],
   "source": [
    "from preprocess import read_data\n",
    "data = read_data('../norec_fine/train.json')\n"
   ]
  },
  {
   "cell_type": "code",
   "execution_count": 8,
   "metadata": {},
   "outputs": [],
   "source": [
    "def search_for(text):\n",
    "    all = []\n",
    "    for sentence in data:\n",
    "        if text in sentence['text']:\n",
    "            all.append(sentence)\n",
    "    return all"
   ]
  },
  {
   "cell_type": "code",
   "execution_count": 9,
   "metadata": {},
   "outputs": [
    {
     "data": {
      "text/plain": [
       "[{'sent_id': '703281-03-01',\n",
       "  'text': 'Michael Katz Krefeld kan lett beskyldes for å prøve seg på en variant av krimsuksessen Jussi Adler-Olsen og historiene om avdeling Q. Også her har vi en løpende krimhistorie som ikke finner sin løsning i denne boka heller , spørsmålet om hvem som drepte samboeren til Thomas \" Ravn \" Ravnsholdt .',\n",
       "  'opinions': [{'Source': [[], []],\n",
       "    'Target': [['Michael Katz Krefeld'], ['0:20']],\n",
       "    'Polar_expression': [['kan lett beskyldes for å prøve seg på en variant av krimsuksessen Jussi Adler-Olsen og historiene om avdeling Q.'],\n",
       "     ['21:133']],\n",
       "    'Polarity': 'Negative',\n",
       "    'Intensity': 'Slight',\n",
       "    'NOT': False,\n",
       "    'Source_is_author': True,\n",
       "    'Target_is_general': False,\n",
       "    'Type': 'E'}]}]"
      ]
     },
     "execution_count": 9,
     "metadata": {},
     "output_type": "execute_result"
    }
   ],
   "source": [
    "search_for('kan lett beskyldes for å prøve seg på en variant av krimsuksess')"
   ]
  },
  {
   "cell_type": "code",
   "execution_count": 10,
   "metadata": {},
   "outputs": [
    {
     "data": {
      "text/plain": [
       "[{'sent_id': '703281-03-01',\n",
       "  'text': 'Michael Katz Krefeld kan lett beskyldes for å prøve seg på en variant av krimsuksessen Jussi Adler-Olsen og historiene om avdeling Q. Også her har vi en løpende krimhistorie som ikke finner sin løsning i denne boka heller , spørsmålet om hvem som drepte samboeren til Thomas \" Ravn \" Ravnsholdt .',\n",
       "  'opinions': [{'Source': [[], []],\n",
       "    'Target': [['Michael Katz Krefeld'], ['0:20']],\n",
       "    'Polar_expression': [['kan lett beskyldes for å prøve seg på en variant av krimsuksessen Jussi Adler-Olsen og historiene om avdeling Q.'],\n",
       "     ['21:133']],\n",
       "    'Polarity': 'Negative',\n",
       "    'Intensity': 'Slight',\n",
       "    'NOT': False,\n",
       "    'Source_is_author': True,\n",
       "    'Target_is_general': False,\n",
       "    'Type': 'E'}]}]"
      ]
     },
     "execution_count": 10,
     "metadata": {},
     "output_type": "execute_result"
    }
   ],
   "source": [
    "search_for('har vi en løpende krimhistorie som ikke finner sin løsning i denne boka hell')"
   ]
  },
  {
   "cell_type": "code",
   "execution_count": 11,
   "metadata": {},
   "outputs": [
    {
     "data": {
      "text/plain": [
       "[{'sent_id': '300058-06-01',\n",
       "  'text': \"Overraskende nok er det David Guetta-bidraget « Who's Taking You Home » som gir meg mest her , og da kan du jo selv tenke deg hvor lista ligger .\",\n",
       "  'opinions': [{'Source': [['meg'], ['80:83']],\n",
       "    'Target': [[\"David Guetta-bidraget « Who's Taking You Home »\"], ['24:71']],\n",
       "    'Polar_expression': [['gir meg mest'], ['76:88']],\n",
       "    'Polarity': 'Positive',\n",
       "    'Intensity': 'Standard',\n",
       "    'NOT': False,\n",
       "    'Source_is_author': True,\n",
       "    'Target_is_general': False,\n",
       "    'Type': 'E'},\n",
       "   {'Source': [[], []],\n",
       "    'Target': [[], []],\n",
       "    'Polar_expression': [['Overraskende nok',\n",
       "      \"David Guetta-bidraget « Who's Taking You Home » som gir meg mest\",\n",
       "      'da kan du jo selv tenke deg hvor lista ligger'],\n",
       "     ['0:16', '24:88', '98:143']],\n",
       "    'Polarity': 'Negative',\n",
       "    'Intensity': 'Standard',\n",
       "    'NOT': False,\n",
       "    'Source_is_author': True,\n",
       "    'Target_is_general': True,\n",
       "    'Type': 'E'}]}]"
      ]
     },
     "execution_count": 11,
     "metadata": {},
     "output_type": "execute_result"
    }
   ],
   "source": [
    "search_for('uetta-bidraget')"
   ]
  },
  {
   "cell_type": "code",
   "execution_count": 12,
   "metadata": {},
   "outputs": [
    {
     "data": {
      "text/plain": [
       "['Overraskende',\n",
       " 'nok',\n",
       " 'er',\n",
       " 'det',\n",
       " 'David',\n",
       " 'Guetta-bidraget',\n",
       " '«',\n",
       " 'Who',\n",
       " \"'s\",\n",
       " 'Taking',\n",
       " 'You',\n",
       " 'Home',\n",
       " '»',\n",
       " 'som',\n",
       " 'gir',\n",
       " 'meg',\n",
       " 'mest',\n",
       " 'her',\n",
       " ',',\n",
       " 'og',\n",
       " 'da',\n",
       " 'kan',\n",
       " 'du',\n",
       " 'jo',\n",
       " 'selv',\n",
       " 'tenke',\n",
       " 'deg',\n",
       " 'hvor',\n",
       " 'lista',\n",
       " 'ligger',\n",
       " '.']"
      ]
     },
     "execution_count": 12,
     "metadata": {},
     "output_type": "execute_result"
    }
   ],
   "source": [
    "word_tokenize(\"Overraskende nok er det David Guetta-bidraget « Who's Taking You Home » som gir meg mest her , og da kan du jo selv tenke deg hvor lista ligger .\")"
   ]
  },
  {
   "cell_type": "code",
   "execution_count": 14,
   "metadata": {},
   "outputs": [
    {
     "data": {
      "text/plain": [
       "[{'sent_id': '705034-09-03',\n",
       "  'text': 'Et verdig punktum for Quart 2005. geir.flatoe@aftenbladet.no',\n",
       "  'opinions': [{'Source': [[], []],\n",
       "    'Target': [[], []],\n",
       "    'Polar_expression': [['verdig'], ['3:9']],\n",
       "    'Polarity': 'Positive',\n",
       "    'Intensity': 'Standard',\n",
       "    'NOT': False,\n",
       "    'Source_is_author': True,\n",
       "    'Target_is_general': True,\n",
       "    'Type': 'E'},\n",
       "   {'Source': [[], []],\n",
       "    'Target': [['Quart 2005.'], ['22:33']],\n",
       "    'Polar_expression': [['verdig punktum'], ['3:17']],\n",
       "    'Polarity': 'Positive',\n",
       "    'Intensity': 'Standard',\n",
       "    'NOT': False,\n",
       "    'Source_is_author': True,\n",
       "    'Target_is_general': False,\n",
       "    'Type': 'E'}]}]"
      ]
     },
     "execution_count": 14,
     "metadata": {},
     "output_type": "execute_result"
    }
   ],
   "source": [
    "search_for('Quart 2005.')"
   ]
  },
  {
   "cell_type": "code",
   "execution_count": null,
   "metadata": {},
   "outputs": [],
   "source": []
  }
 ],
 "metadata": {
  "interpreter": {
   "hash": "f393ad5f75a69043fa09646126de64d4fd2bb59fcf86119f8ad2faf34b1a86a6"
  },
  "kernelspec": {
   "display_name": "Python 3.9.7 64-bit ('py39': conda)",
   "language": "python",
   "name": "python3"
  },
  "language_info": {
   "codemirror_mode": {
    "name": "ipython",
    "version": 3
   },
   "file_extension": ".py",
   "mimetype": "text/x-python",
   "name": "python",
   "nbconvert_exporter": "python",
   "pygments_lexer": "ipython3",
   "version": "3.9.7"
  },
  "orig_nbformat": 4
 },
 "nbformat": 4,
 "nbformat_minor": 2
}
